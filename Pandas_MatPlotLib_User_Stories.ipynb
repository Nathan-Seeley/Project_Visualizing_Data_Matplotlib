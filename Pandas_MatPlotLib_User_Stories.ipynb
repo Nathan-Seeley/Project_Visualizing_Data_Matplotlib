{
 "cells": [
  {
   "cell_type": "markdown",
   "metadata": {},
   "source": [
    "## Visualizing Data with Pandas and MatPlotLib\n"
   ]
  },
  {
   "cell_type": "markdown",
   "metadata": {},
   "source": [
    "### As a Data Analyst, I want to set up the proper imports so I have access to the Pandas and MatPlotLib libraries"
   ]
  },
  {
   "cell_type": "code",
   "execution_count": 19,
   "metadata": {},
   "outputs": [],
   "source": [
    "import pandas as pd\n",
    "import matplotlib.pyplot as plt"
   ]
  },
  {
   "cell_type": "markdown",
   "metadata": {},
   "source": [
    "### As a Data Analyst, I want to import and store the `ufo_sightings.csv` file in a variable"
   ]
  },
  {
   "cell_type": "code",
   "execution_count": 20,
   "metadata": {},
   "outputs": [
    {
     "name": "stdout",
     "output_type": "stream",
     "text": [
      "<class 'pandas.core.frame.DataFrame'>\n",
      "Int64Index: 64683 entries, 0 to 65535\n",
      "Data columns (total 11 columns):\n",
      " #   Column               Non-Null Count  Dtype  \n",
      "---  ------               --------------  -----  \n",
      " 0   Date_Time            64683 non-null  object \n",
      " 1   City                 64683 non-null  object \n",
      " 2   State/Province       59973 non-null  object \n",
      " 3   Country              56927 non-null  object \n",
      " 4   UFO_Shape            63124 non-null  object \n",
      " 5   Length_of_Encounter  64683 non-null  float64\n",
      " 6   Described_Duration   64683 non-null  object \n",
      " 7   Description          64668 non-null  object \n",
      " 8   Date_Documented      64683 non-null  object \n",
      " 9   Latitude             64683 non-null  float64\n",
      " 10  Longitude            64683 non-null  float64\n",
      "dtypes: float64(3), object(8)\n",
      "memory usage: 5.9+ MB\n"
     ]
    }
   ],
   "source": [
    "df=pd.read_csv(\"ufo_sightings.csv\", index_col=\"#\")\n",
    "df.info()"
   ]
  },
  {
   "cell_type": "markdown",
   "metadata": {},
   "source": [
    "### As a Data Analyst, I want to ensure my DataFrame is cleaned by removing any **null** values"
   ]
  },
  {
   "cell_type": "code",
   "execution_count": 21,
   "metadata": {},
   "outputs": [
    {
     "name": "stdout",
     "output_type": "stream",
     "text": [
      "<class 'pandas.core.frame.DataFrame'>\n",
      "Int64Index: 53562 entries, 0 to 65535\n",
      "Data columns (total 11 columns):\n",
      " #   Column               Non-Null Count  Dtype  \n",
      "---  ------               --------------  -----  \n",
      " 0   Date_Time            53562 non-null  object \n",
      " 1   City                 53562 non-null  object \n",
      " 2   State/Province       53562 non-null  object \n",
      " 3   Country              53562 non-null  object \n",
      " 4   UFO_Shape            53562 non-null  object \n",
      " 5   Length_of_Encounter  53562 non-null  float64\n",
      " 6   Described_Duration   53562 non-null  object \n",
      " 7   Description          53562 non-null  object \n",
      " 8   Date_Documented      53562 non-null  object \n",
      " 9   Latitude             53562 non-null  float64\n",
      " 10  Longitude            53562 non-null  float64\n",
      "dtypes: float64(3), object(8)\n",
      "memory usage: 4.9+ MB\n"
     ]
    }
   ],
   "source": [
    "no_null_df = df.dropna()\n",
    "no_null_df.info()\n"
   ]
  },
  {
   "cell_type": "markdown",
   "metadata": {},
   "source": [
    "### As a Data Analyst, I want to filter my DataFrame to remove any information that is not related to my analysis\n",
    "* This will include **dropping** the **Described_Duration, Description, and Date_Documented** columns"
   ]
  },
  {
   "cell_type": "code",
   "execution_count": 22,
   "metadata": {},
   "outputs": [
    {
     "data": {
      "text/html": [
       "<div>\n",
       "<style scoped>\n",
       "    .dataframe tbody tr th:only-of-type {\n",
       "        vertical-align: middle;\n",
       "    }\n",
       "\n",
       "    .dataframe tbody tr th {\n",
       "        vertical-align: top;\n",
       "    }\n",
       "\n",
       "    .dataframe thead th {\n",
       "        text-align: right;\n",
       "    }\n",
       "</style>\n",
       "<table border=\"1\" class=\"dataframe\">\n",
       "  <thead>\n",
       "    <tr style=\"text-align: right;\">\n",
       "      <th></th>\n",
       "      <th>Date_Time</th>\n",
       "      <th>City</th>\n",
       "      <th>State/Province</th>\n",
       "      <th>Country</th>\n",
       "      <th>UFO_Shape</th>\n",
       "      <th>Length_of_Encounter</th>\n",
       "      <th>Latitude</th>\n",
       "      <th>Longitude</th>\n",
       "    </tr>\n",
       "    <tr>\n",
       "      <th>#</th>\n",
       "      <th></th>\n",
       "      <th></th>\n",
       "      <th></th>\n",
       "      <th></th>\n",
       "      <th></th>\n",
       "      <th></th>\n",
       "      <th></th>\n",
       "      <th></th>\n",
       "    </tr>\n",
       "  </thead>\n",
       "  <tbody>\n",
       "    <tr>\n",
       "      <th>0</th>\n",
       "      <td>10/10/1949 20:30</td>\n",
       "      <td>San Marcos</td>\n",
       "      <td>TX</td>\n",
       "      <td>US</td>\n",
       "      <td>cylinder</td>\n",
       "      <td>2700.0</td>\n",
       "      <td>29.883056</td>\n",
       "      <td>-97.941111</td>\n",
       "    </tr>\n",
       "    <tr>\n",
       "      <th>3</th>\n",
       "      <td>10/10/1956 21:00</td>\n",
       "      <td>Edna</td>\n",
       "      <td>TX</td>\n",
       "      <td>US</td>\n",
       "      <td>circle</td>\n",
       "      <td>20.0</td>\n",
       "      <td>28.978333</td>\n",
       "      <td>-96.645833</td>\n",
       "    </tr>\n",
       "    <tr>\n",
       "      <th>4</th>\n",
       "      <td>10/10/1960 20:00</td>\n",
       "      <td>Kaneohe</td>\n",
       "      <td>HI</td>\n",
       "      <td>US</td>\n",
       "      <td>light</td>\n",
       "      <td>900.0</td>\n",
       "      <td>21.418056</td>\n",
       "      <td>-157.803611</td>\n",
       "    </tr>\n",
       "    <tr>\n",
       "      <th>5</th>\n",
       "      <td>10/10/1961 19:00</td>\n",
       "      <td>Bristol</td>\n",
       "      <td>TN</td>\n",
       "      <td>US</td>\n",
       "      <td>sphere</td>\n",
       "      <td>300.0</td>\n",
       "      <td>36.595000</td>\n",
       "      <td>-82.188889</td>\n",
       "    </tr>\n",
       "    <tr>\n",
       "      <th>7</th>\n",
       "      <td>10/10/1965 23:45</td>\n",
       "      <td>Norwalk</td>\n",
       "      <td>CT</td>\n",
       "      <td>US</td>\n",
       "      <td>disk</td>\n",
       "      <td>1200.0</td>\n",
       "      <td>41.117500</td>\n",
       "      <td>-73.408333</td>\n",
       "    </tr>\n",
       "  </tbody>\n",
       "</table>\n",
       "</div>"
      ],
      "text/plain": [
       "          Date_Time        City State/Province Country UFO_Shape  \\\n",
       "#                                                                  \n",
       "0  10/10/1949 20:30  San Marcos             TX      US  cylinder   \n",
       "3  10/10/1956 21:00        Edna             TX      US    circle   \n",
       "4  10/10/1960 20:00     Kaneohe             HI      US     light   \n",
       "5  10/10/1961 19:00     Bristol             TN      US    sphere   \n",
       "7  10/10/1965 23:45     Norwalk             CT      US      disk   \n",
       "\n",
       "   Length_of_Encounter   Latitude   Longitude  \n",
       "#                                              \n",
       "0               2700.0  29.883056  -97.941111  \n",
       "3                 20.0  28.978333  -96.645833  \n",
       "4                900.0  21.418056 -157.803611  \n",
       "5                300.0  36.595000  -82.188889  \n",
       "7               1200.0  41.117500  -73.408333  "
      ]
     },
     "execution_count": 22,
     "metadata": {},
     "output_type": "execute_result"
    }
   ],
   "source": [
    "filtered_df = no_null_df.drop([\"Described_Duration\", \"Description\", \"Date_Documented\"], axis=1)\n",
    "filtered_df.head()"
   ]
  },
  {
   "cell_type": "markdown",
   "metadata": {},
   "source": [
    "### As a Data Analyst, I want to convert the `Date_Time` column to utilize Pandas' DateTime data type"
   ]
  },
  {
   "cell_type": "code",
   "execution_count": 23,
   "metadata": {},
   "outputs": [
    {
     "name": "stdout",
     "output_type": "stream",
     "text": [
      "<class 'pandas.core.frame.DataFrame'>\n",
      "Int64Index: 53562 entries, 0 to 65535\n",
      "Data columns (total 8 columns):\n",
      " #   Column               Non-Null Count  Dtype         \n",
      "---  ------               --------------  -----         \n",
      " 0   Date_Time            53562 non-null  datetime64[ns]\n",
      " 1   City                 53562 non-null  object        \n",
      " 2   State/Province       53562 non-null  object        \n",
      " 3   Country              53562 non-null  object        \n",
      " 4   UFO_Shape            53562 non-null  object        \n",
      " 5   Length_of_Encounter  53562 non-null  float64       \n",
      " 6   Latitude             53562 non-null  float64       \n",
      " 7   Longitude            53562 non-null  float64       \n",
      "dtypes: datetime64[ns](1), float64(3), object(4)\n",
      "memory usage: 3.7+ MB\n"
     ]
    }
   ],
   "source": [
    "filtered_df[\"Date_Time\"] = pd.to_datetime(filtered_df[\"Date_Time\"])\n",
    "filtered_df.info()"
   ]
  },
  {
   "cell_type": "markdown",
   "metadata": {},
   "source": [
    "## Data Visualization with Matplotlib"
   ]
  },
  {
   "cell_type": "markdown",
   "metadata": {},
   "source": [
    "### As a Data Analyst, I want to visualize the **frequency of different UFO shapes**, to determine which UFO shapes are most commonly encountered\n",
    "* I will use a **Bar Graph** to visualize this data\n",
    "* I will include a label for the X and Y axis\n",
    "* I will include a name for my chart"
   ]
  },
  {
   "cell_type": "code",
   "execution_count": 37,
   "metadata": {},
   "outputs": [
    {
     "data": {
      "image/png": "[encoded data removed]",
      "text/plain": [
       "<Figure size 900x300 with 1 Axes>"
      ]
     },
     "metadata": {},
     "output_type": "display_data"
    }
   ],
   "source": [
    "ufo_shape_frequency = filtered_df[\"UFO_Shape\"].value_counts()\n",
    "ufo_shape_frequency.plot.bar(figsize=(9,3));\n",
    "plt.title(\"UFO Shape Frequency\", fontsize = 15);\n",
    "plt.xlabel(\"UFO Shape\", fontsize = 12);\n",
    "plt.ylabel(\"Number of Sightings\", fontsize = 12);"
   ]
  },
  {
   "cell_type": "markdown",
   "metadata": {},
   "source": [
    "### As a Data Analyst, I want to visualize the **number of UFO encounters**, grouped by each decade, to see if there is a correlation between number of sightings and decade\n",
    "* I will use a **Bar Graph** to visualize this data\n",
    "* I will include a label for the X and Y axis\n",
    "* I will include a name for my chart"
   ]
  },
  {
   "cell_type": "code",
   "execution_count": null,
   "metadata": {},
   "outputs": [],
   "source": []
  },
  {
   "cell_type": "markdown",
   "metadata": {},
   "source": [
    "### As a Data Analyst, I want to create a **Line Graph** to visualize the **Frequency of UFO sightings, by hour of the day**\n",
    "* I will use a **Line Graph** to visualize this data\n",
    "* I will include a label for the X and Y axis\n",
    "* I will include a name for my chart"
   ]
  },
  {
   "cell_type": "code",
   "execution_count": null,
   "metadata": {},
   "outputs": [],
   "source": []
  },
  {
   "cell_type": "markdown",
   "metadata": {},
   "source": [
    "### As a Data Analyst, I want to answer all questions in the following Markdown block to provide a **clear and detailed analysis of my UFO sighting findings**"
   ]
  },
  {
   "cell_type": "markdown",
   "metadata": {},
   "source": [
    "1. Which UFO shape is the most frequently reported? \n",
    "    * Q1 Answer\n",
    "\n",
    "2. Which shape is least frequently reported?\n",
    "    * Q2 Answer\n",
    "\n",
    "3. Based on your analysis, what times of the day have the highest number of UFO sightings? \n",
    "    * Q3 Answer\n",
    "\n",
    "4. Are there other factors that may account for this pattern in the data?\n",
    "    * Q4 Answer\n",
    "\n",
    "5. Do you see any surprising trends in the breakdown by decade? Do you have any theories or ideas that may explain these patterns?\n",
    "    * Q5 Answer\n",
    "\n",
    "6. Based on your data analysis, what recommendation would you give to individuals interested in encountering a UFO?\n",
    "    * For example, what time would be best to look, what UFO shapes should they expect to see, etc.\n",
    "    * Q6 Answer\n"
   ]
  },
  {
   "cell_type": "markdown",
   "metadata": {},
   "source": [
    "### **Bonus:** As a Data Analyst, I want to visualize the frequency of **different UFO shape sightings for Virginia, Wisconsin, and Tennessee**, to see if there is any variation of UFO shape frequency between states\n",
    "* I will use a **Grouped Bar Graph** to visualize this data\n",
    "* I will include a label for the X and Y axis\n",
    "* I will include a name for my chart"
   ]
  },
  {
   "cell_type": "code",
   "execution_count": null,
   "metadata": {},
   "outputs": [],
   "source": []
  }
 ],
 "metadata": {
  "kernelspec": {
   "display_name": "Python 3",
   "language": "python",
   "name": "python3"
  },
  "language_info": {
   "codemirror_mode": {
    "name": "ipython",
    "version": 3
   },
   "file_extension": ".py",
   "mimetype": "text/x-python",
   "name": "python",
   "nbconvert_exporter": "python",
   "pygments_lexer": "ipython3",
   "version": "3.10.9"
  },
  "orig_nbformat": 4,
  "vscode": {
   "interpreter": {
    "hash": "1d208fc92f63bff2dd80c97ffe5a57d134e87b05d2dbf0af794face5bab8487c"
   }
  }
 },
 "nbformat": 4,
 "nbformat_minor": 2
}
